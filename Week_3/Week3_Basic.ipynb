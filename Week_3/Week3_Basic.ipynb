{
  "nbformat": 4,
  "nbformat_minor": 0,
  "metadata": {
    "colab": {
      "name": "Week3_Basic.ipynb",
      "provenance": [],
      "collapsed_sections": []
    },
    "kernelspec": {
      "name": "python3",
      "display_name": "Python 3"
    }
  },
  "cells": [
    {
      "cell_type": "markdown",
      "metadata": {
        "id": "dVo76LGOuEb7",
        "colab_type": "text"
      },
      "source": [
        "##**Linked List:**\n",
        "\n",
        "This is the implementation of singly linked list with operations like creating Linked List, inserting node, searching a node, deleting a node and printing linked list."
      ]
    },
    {
      "cell_type": "code",
      "metadata": {
        "id": "MrJmM7ZTt7oG",
        "colab_type": "code",
        "outputId": "6c8bee70-057f-4587-8ff7-b1234146e6e7",
        "colab": {
          "base_uri": "https://localhost:8080/",
          "height": 170
        }
      },
      "source": [
        "class Node:\n",
        "    # Creating Node containing data and pointer to next node.\n",
        "    def __init__(self,data=None, next=None):\n",
        "        self.data = data\n",
        "        self.next = next\n",
        "\n",
        "class LinkedList():\n",
        "    # Creating pointer to head of linked list\n",
        "    def __init__(self):\n",
        "        self.head = None\n",
        "\n",
        "    def insert_node(self,data):\n",
        "        # Inserting new node at the end of last node formed\n",
        "        new_node = Node(data)\n",
        "        # Inserting node at the end of list if head is present\n",
        "        if self.head:\n",
        "            temp = self.head\n",
        "            while(temp.next):\n",
        "                temp = temp.next\n",
        "            temp.next = new_node\n",
        "        # Inserting node as the head of the Linked List\n",
        "        else:\n",
        "            self.head = new_node\n",
        "\n",
        "    def printing(self):\n",
        "        # Printing the linked list from head\n",
        "        temp = self.head\n",
        "        while(temp):\n",
        "            print(temp.data, end=\" -> \")\n",
        "            temp = temp.next\n",
        "        print(\"\\n\")\n",
        "\n",
        "    def search_node(self,x):\n",
        "        temp = self.head\n",
        "        while(temp):\n",
        "            if temp.data == x:\n",
        "                print(\"Node found!\")\n",
        "                break\n",
        "            temp = temp.next\n",
        "        if temp is None:\n",
        "            print(\"Node not found!\")\n",
        "\n",
        "    def delete_node(self,x):\n",
        "        temp = self.head\n",
        "        if temp is not None:\n",
        "            if temp.data == x:\n",
        "                self.head = temp.next\n",
        "                temp = None\n",
        "                return \n",
        "        while(temp is not None):\n",
        "            if temp.data == x:\n",
        "                break\n",
        "            prev = temp\n",
        "            temp = temp.next\n",
        "        \n",
        "        if temp is None:\n",
        "            print(\"Node not found!\")\n",
        "        print(\"Node deleted!\")\n",
        "        prev.next = temp.next\n",
        "        temp = None\n",
        "\n",
        "\n",
        "Llist = LinkedList() # Object instantiating Linked List\n",
        "Llist.head = Node(1)\n",
        "#print(Llist.head.data)\n",
        "Llist.insert_node(2)\n",
        "Llist.insert_node(3)\n",
        "Llist.insert_node(4)\n",
        "Llist.printing()\n",
        "print(\"Node with value 3:\")\n",
        "Llist.search_node(3)\n",
        "print(\"Nodw with value 2:\")\n",
        "Llist.delete_node(2)\n",
        "print(\"List after deletion:\")\n",
        "Llist.printing()"
      ],
      "execution_count": 0,
      "outputs": [
        {
          "output_type": "stream",
          "text": [
            "1 -> 2 -> 3 -> 4 -> \n",
            "\n",
            "Node with value 3:\n",
            "Node found!\n",
            "Nodw with value 2:\n",
            "Node deleted!\n",
            "List after deletion:\n",
            "1 -> 3 -> 4 -> \n",
            "\n"
          ],
          "name": "stdout"
        }
      ]
    },
    {
      "cell_type": "markdown",
      "metadata": {
        "id": "bFz7UiPspJ26",
        "colab_type": "text"
      },
      "source": [
        "##**Stack Operations:**\n",
        "\n",
        "##Using Doubly Linked List:\n",
        "\n",
        "The following code cell consists of Stack implementation using Doubly Linked list in Python. The operations like push, pop, top of stack and printing the stack from top are performed."
      ]
    },
    {
      "cell_type": "code",
      "metadata": {
        "id": "shd4iucewCSN",
        "colab_type": "code",
        "outputId": "6edbc52d-b809-4b15-9dd8-7a9b7ae7cf7e",
        "colab": {
          "base_uri": "https://localhost:8080/",
          "height": 187
        }
      },
      "source": [
        "class Node:\n",
        "    def __init__ (self,data):\n",
        "        # Creating new nodes\n",
        "        # Doubly linked list have two pointers prev and next\n",
        "        self.data = data\n",
        "        self.prev = None\n",
        "        self.next = None\n",
        "\n",
        "class Stack:\n",
        "    def __init__ (self):\n",
        "        self.head = None\n",
        "    \n",
        "    def push(self,data):\n",
        "        if self.head == None:       # If element is first element of the stack \n",
        "            self.head = Node(data)\n",
        "        else:\n",
        "            new_node = Node(data)   # Adding new element to stack\n",
        "            self.head.prev = new_node\n",
        "            new_node.next = self.head\n",
        "            new_node.prev = None\n",
        "            self.head = new_node    # Head will be new node\n",
        "\n",
        "    def printstack(self):\n",
        "        temp = self.head     # Printing stack from top\n",
        "        while(temp):\n",
        "            print(temp.data, end=\" -> \")\n",
        "            temp = temp.next\n",
        "        print(\"\\n\")\n",
        "\n",
        "    def top(self):\n",
        "        temp = self.head   # Printing topmost element of stack\n",
        "        print(temp.data)\n",
        "        print(\"\\n\")\n",
        "\n",
        "    def pop(self):\n",
        "        if self.head == None:  # If no elements in stack\n",
        "            return None\n",
        "        else:\n",
        "            temp = self.head.data   # Storing element\n",
        "            self.head = self.head.next\n",
        "            self.head.prev = None   # Removing link \n",
        "            return temp  \n",
        "\n",
        "        \n",
        "\n",
        "stack = Stack()\n",
        "stack.push(1)\n",
        "stack.push(2)\n",
        "stack.push(3)\n",
        "stack.push(4)\n",
        "\n",
        "print(\"Stack from top:\")\n",
        "stack.printstack()\n",
        "\n",
        "print(\"Top of stack: \")\n",
        "stack.top()\n",
        "\n",
        "stack.pop()\n",
        "\n",
        "print(\"Stack after popping element: \")\n",
        "stack.printstack()"
      ],
      "execution_count": 10,
      "outputs": [
        {
          "output_type": "stream",
          "text": [
            "Stack from top:\n",
            "4 -> 3 -> 2 -> 1 -> \n",
            "\n",
            "Top of stack: \n",
            "4\n",
            "\n",
            "\n",
            "Stack after popping element: \n",
            "3 -> 2 -> 1 -> \n",
            "\n"
          ],
          "name": "stdout"
        }
      ]
    },
    {
      "cell_type": "markdown",
      "metadata": {
        "id": "G9CAfHZ6vi7g",
        "colab_type": "text"
      },
      "source": [
        "##**Queues using Doubly Linked List:**\n",
        "\n",
        "The following code cell consists of implementation of Queue using Doubly Linked List in Python. Operations like enqueue, deque, and printing the queue are performed."
      ]
    },
    {
      "cell_type": "code",
      "metadata": {
        "id": "6cIb8MVrwrdG",
        "colab_type": "code",
        "outputId": "84be2989-d4b6-4320-9877-a52faeb1c1f0",
        "colab": {
          "base_uri": "https://localhost:8080/",
          "height": 102
        }
      },
      "source": [
        "class Node:\n",
        "    def __init__ (self,data):\n",
        "        self.data = data\n",
        "        self.prev = None\n",
        "        self.next = None\n",
        "\n",
        "class Queue:\n",
        "    def __init__ (self):\n",
        "        self.front = None  # Two pointers for keeping track of front and rear of queue.\n",
        "        self.rear = None\n",
        "\n",
        "    def addQueue(self,data):\n",
        "        if self.front == None:  # If element is first element of queue\n",
        "            self.front = Node(data)\n",
        "            self.rear = self.front\n",
        "        else:\n",
        "            new_node = Node(data)  # Adding element to the rear end of queue.\n",
        "            new_node.prev = self.rear\n",
        "            self.rear.next = new_node\n",
        "            new_node.next = None\n",
        "            self.rear = new_node\n",
        "\n",
        "    def printQueue(self):\n",
        "        temp = self.front  # Printing queue from front\n",
        "        while(temp):\n",
        "            print(temp.data, end=\" -> \")\n",
        "            temp = temp.next\n",
        "        print(\"\\n\")\n",
        "\n",
        "    def deleteQueue(self):\n",
        "        \n",
        "        temp = self.rear.data   # Deleting rear \n",
        "        self.rear = self.rear.prev\n",
        "        self.rear.next = None\n",
        "        print(\"Element deleted: \", temp)\n",
        "\n",
        "        \n",
        "queue = Queue()\n",
        "queue.addQueue(1)\n",
        "queue.addQueue(2)\n",
        "queue.addQueue(3)\n",
        "queue.printQueue()\n",
        "queue.deleteQueue()\n",
        "queue.printQueue()\n"
      ],
      "execution_count": 0,
      "outputs": [
        {
          "output_type": "stream",
          "text": [
            "1 -> 2 -> 3 -> \n",
            "\n",
            "Element deleted:  3\n",
            "1 -> 2 -> \n",
            "\n"
          ],
          "name": "stdout"
        }
      ]
    },
    {
      "cell_type": "markdown",
      "metadata": {
        "id": "y2JrbkfQ6tXU",
        "colab_type": "text"
      },
      "source": [
        "##**Deques using Doubly Linked List:**\n",
        "\n",
        "### Deque: Deque is Double ended Queue wherein we can add and delete elements from both the ends of the queue.\n",
        "\n",
        "The operations like adding and deleting elements from the front and rear end of the queue are performed in the following cell."
      ]
    },
    {
      "cell_type": "code",
      "metadata": {
        "id": "IDOwZWMsyN3l",
        "colab_type": "code",
        "outputId": "afb99d25-2abb-44b6-878d-0822a42884bb",
        "colab": {
          "base_uri": "https://localhost:8080/",
          "height": 119
        }
      },
      "source": [
        "class Node:\n",
        "    # This class creates a Node without any link \n",
        "    def __init__ (self,data): \n",
        "        self.data = data\n",
        "        self.prev = None\n",
        "        self.next = None\n",
        "class Deque:\n",
        "    def __init__ (self):\n",
        "        self.front = None  # Two pointers are keeping record of front and rear end of the Queue.\n",
        "        self.rear = None\n",
        "\n",
        "    def addFront(self,data):\n",
        "        if self.front == None: # First element of the Queue\n",
        "            self.front = Node(data)\n",
        "            self.rear = self.front\n",
        "        else:\n",
        "            new_node = Node(data) # Adding element to the front of Queue.\n",
        "            new_node.next = self.front\n",
        "            self.front.prev = new_node\n",
        "            self.front = new_node\n",
        "    \n",
        "    def addRear(self,data):\n",
        "        if self.rear == None: # Adding first element\n",
        "            self.front = Node(data)\n",
        "            self.rear = self.front\n",
        "        else:\n",
        "            new_node = Node(data)  # Adding element at the rear end.\n",
        "            new_node.prev = self.rear\n",
        "            self.rear.next = new_node\n",
        "            self.rear = new_node\n",
        "            \n",
        "    def printing(self):\n",
        "        temp = self.front  # Printing Queue from front\n",
        "        while(temp):\n",
        "            print(temp.data, end=\" <- \")\n",
        "            temp = temp.next\n",
        "        print(\"\\n\")\n",
        "\n",
        "    def deleteFront(self):\n",
        "        temp = self.front.data   # Deleting element from front\n",
        "        self.front = self.front.next\n",
        "        self.front.prev = None\n",
        "        print(\"Node deleted from front: \",temp)\n",
        "\n",
        "    def deleteRear(self):\n",
        "        temp = self.rear.data   # Deleting element from rear\n",
        "        self.rear = self.rear.prev\n",
        "        self.rear.next = None\n",
        "        print(\"Node deleted from rear: \",temp)\n",
        "\n",
        "deque = Deque()\n",
        "deque.addFront(1)\n",
        "deque.addFront(2)\n",
        "deque.addFront(3)\n",
        "deque.addRear(4)\n",
        "deque.addRear(5)\n",
        "deque.printing()\n",
        "deque.deleteFront()\n",
        "deque.deleteRear()\n",
        "deque.printing()\n",
        "\n"
      ],
      "execution_count": 11,
      "outputs": [
        {
          "output_type": "stream",
          "text": [
            "3 <- 2 <- 1 <- 4 <- 5 <- \n",
            "\n",
            "Node deleted from front:  3\n",
            "Node deleted from rear:  5\n",
            "2 <- 1 <- 4 <- \n",
            "\n"
          ],
          "name": "stdout"
        }
      ]
    },
    {
      "cell_type": "markdown",
      "metadata": {
        "id": "Vs_Ok469AO32",
        "colab_type": "text"
      },
      "source": [
        "##**Binary Search Tree using Linked List:**\n",
        "\n",
        "### Binary Search Tree is a tree with following properties:\n",
        "    1. The left subtree of the root contains element less than the root.\n",
        "    2. The right subtree of the root contains element greater than the root\n",
        "    3. Both the left and right subtrees are again binary search trees.\n",
        "\n",
        "The following code cell consists of the tree traversal techniques- inorder, preorder, postorder, inserting, deleting and finding nodes in the tree."
      ]
    },
    {
      "cell_type": "code",
      "metadata": {
        "id": "ZbwA_Lf7yWng",
        "colab_type": "code",
        "colab": {
          "base_uri": "https://localhost:8080/",
          "height": 238
        },
        "outputId": "54a2ff54-c6c0-429e-dcf3-bd345d9a52c1"
      },
      "source": [
        "class Node:\n",
        "    def __init__ (self,data):\n",
        "        self.left = None\n",
        "        self.right = None\n",
        "        self.data = data\n",
        "\n",
        "def insert(root,data):\n",
        "    new_node = Node(data)\n",
        "    if root is None:\n",
        "        root = new_node\n",
        "    else:\n",
        "        temp = root\n",
        "        prev = None\n",
        "        while temp is not None:\n",
        "            prev = temp\n",
        "            if new_node.data < temp.data:\n",
        "                temp = temp.left\n",
        "            else:\n",
        "                temp = temp.right\n",
        "\n",
        "    if new_node.data < prev.data:\n",
        "        prev.left = new_node\n",
        "    else:\n",
        "        prev.right = new_node\n",
        "\n",
        "def inorder(root):\n",
        "    if root is not None:\n",
        "        inorder(root.left)\n",
        "        print(root.data, end=\" - \")\n",
        "        inorder(root.right)\n",
        "\n",
        "\n",
        "def preorder(root):\n",
        "    if root is not None:\n",
        "        print(root.data, end=\" - \")\n",
        "        preorder(root.left)\n",
        "        preorder(root.right)\n",
        "\n",
        "\n",
        "def postorder(root):\n",
        "    if root is not None:\n",
        "        postorder(root.left)\n",
        "        postorder(root.right)\n",
        "        print(root.data, end=\" - \")\n",
        "\n",
        "\n",
        "def find(root,data):\n",
        "    temp = root\n",
        "    while(temp is not None):\n",
        "        if temp.data == data:\n",
        "            break\n",
        "        if data < temp.data:\n",
        "            temp = temp.left\n",
        "        else:\n",
        "            temp = temp.right\n",
        "    if temp is None:\n",
        "        print(\"Node not found!\")\n",
        "    else:\n",
        "        print(\"Node found\")\n",
        "\n",
        "def deleteNode(root,data):\n",
        "    temp = root\n",
        "    prev = None\n",
        "    while(temp is not None):\n",
        "        if temp.data == data:\n",
        "            break\n",
        "        prev = temp\n",
        "        if data < temp.data:\n",
        "            temp = temp.left\n",
        "        else:\n",
        "            temp = temp.right\n",
        "    if temp is None:\n",
        "        print(\"Node not found!\")\n",
        "    else:\n",
        "        if temp.left is None:\n",
        "            if temp is not root:\n",
        "                if prev.left is temp:\n",
        "                    prev.left = temp.right\n",
        "                else:\n",
        "                    prev.right = temp.right\n",
        "            else:\n",
        "                root = temp.right\n",
        "        elif temp.right is None:\n",
        "            if temp is not root:\n",
        "                if prev.left is temp:\n",
        "                    prev.left = temp.left\n",
        "                else:\n",
        "                    prev.right = temp.right\n",
        "            else:\n",
        "                root = temp.left\n",
        "        else:\n",
        "            x = temp.right\n",
        "            y = temp\n",
        "            while(x.left is not None):\n",
        "                y = x\n",
        "                x = x.left\n",
        "            temp.data = x.data\n",
        "            if y is not temp:\n",
        "                y.left = x.right\n",
        "            else:\n",
        "                y.right = x.right\n",
        "\n",
        "\n",
        "\n",
        "root = Node(50)\n",
        "insert(root,60)\n",
        "insert(root,70)\n",
        "insert(root,40)\n",
        "print(\"\\n Inorder:\")\n",
        "inorder(root)\n",
        "print(\"\\nPreorder:\")\n",
        "preorder(root)\n",
        "print(\"\\nPostorder:\")\n",
        "postorder(root)\n",
        "print(\"\\n\")\n",
        "find(root,60)\n",
        "find(root,10)\n",
        "deleteNode(root,50)\n",
        "print(\"\\n After deleting node 50:\")\n",
        "inorder(root)\n",
        "#inorder(root)\n"
      ],
      "execution_count": 17,
      "outputs": [
        {
          "output_type": "stream",
          "text": [
            "\n",
            " Inorder:\n",
            "40 - 50 - 60 - 70 - \n",
            "Preorder:\n",
            "50 - 40 - 60 - 70 - \n",
            "Postorder:\n",
            "40 - 70 - 60 - 50 - \n",
            "\n",
            "Node found\n",
            "Node not found!\n",
            "\n",
            " After deleting node 50:\n",
            "40 - 60 - 70 - "
          ],
          "name": "stdout"
        }
      ]
    },
    {
      "cell_type": "markdown",
      "metadata": {
        "id": "xt3rMrPV3IZL",
        "colab_type": "text"
      },
      "source": [
        "\n",
        "\n",
        "---\n",
        "\n"
      ]
    },
    {
      "cell_type": "markdown",
      "metadata": {
        "id": "vFBy9Wlm3DfR",
        "colab_type": "text"
      },
      "source": [
        "##**Queue using Stack:**\n",
        "\n",
        "The queue implementation involves using two stacks which is done using following algorithm:\n",
        "\n",
        "    a. enQueue(): Push elements into stack1 which is similar to enqueue operation of queue.\n",
        "    b. deQueue(): \n",
        "            1. Check if stack1 is empty.\n",
        "                    1. If empty, then queue is empty.\n",
        "                    2. If not empty then add all the items to stack2 in reverse order.\n",
        "            2. Pop out the last element of stack2 which is deque operation of queue."
      ]
    },
    {
      "cell_type": "code",
      "metadata": {
        "id": "qDLmrnkCvFIp",
        "colab_type": "code",
        "colab": {
          "base_uri": "https://localhost:8080/",
          "height": 68
        },
        "outputId": "d5339cf7-a12f-4fef-f05e-676c16b9f44d"
      },
      "source": [
        "class Queue_using_Stacks:\n",
        "    def __init__ (self):\n",
        "        self.stack1 = []\n",
        "        self.stack2 = []\n",
        "     \n",
        "    def enQueue(self,data):\n",
        "        self.stack1.append(data)\n",
        "    \n",
        "    def deQueue(self):\n",
        "        if len(self.stack2) == 0:\n",
        "            if len(self.stack1) == 0:\n",
        "                print(\"Queue is empty!\")\n",
        "            # While stack1 is not empty, move items in reverse order in stack2\n",
        "            while(len(self.stack1) > 0):\n",
        "                temp = self.stack1.pop()\n",
        "                self.stack2.append(temp)\n",
        "        print(\"Element deleted from queue:\",self.stack2.pop())\n",
        "\n",
        "    def printQueue(self):\n",
        "        if len(self.stack2) == 0:\n",
        "            if len(self.stack1) == 0:\n",
        "                print(\"Queue is empty!\")\n",
        "            while(len(self.stack1) > 0):\n",
        "                temp = self.stack1.pop()\n",
        "                self.stack2.append(temp)\n",
        "\n",
        "            while(len(self.stack2) > 0):\n",
        "                temp = self.stack2.pop()\n",
        "                self.stack1.append(temp)\n",
        "                print(temp, end=\" -> \")\n",
        "        print(\"\\n\")\n",
        "q = Queue_using_Stacks()\n",
        "q.enQueue(1)\n",
        "q.enQueue(2)\n",
        "q.enQueue(3)\n",
        "q.printQueue()\n",
        "q.deQueue()\n"
      ],
      "execution_count": 36,
      "outputs": [
        {
          "output_type": "stream",
          "text": [
            "1 -> 2 -> 3 -> \n",
            "\n",
            "Element deleted from queue: 1\n"
          ],
          "name": "stdout"
        }
      ]
    },
    {
      "cell_type": "markdown",
      "metadata": {
        "id": "gCwZo0gP9xPJ",
        "colab_type": "text"
      },
      "source": [
        "\n",
        "\n",
        "---\n",
        "\n"
      ]
    },
    {
      "cell_type": "markdown",
      "metadata": {
        "id": "YlGfqSLa9y0s",
        "colab_type": "text"
      },
      "source": [
        "##**Stack using Queue:**\n",
        "\n",
        "The implementation of stack using queues is using 2 queues and implements the following algorithm:\n",
        "    \n",
        "    a. push(): An element is added to the queue using append function.\n",
        "    b. pop(): \n",
        "        1. All the elements except the last element are removed from queue1 in order and appended to queue2.\n",
        "        2. The element in queue1 is popped and again all elements from queue2 are appended to queue1."
      ]
    },
    {
      "cell_type": "code",
      "metadata": {
        "id": "BLkVvZB76bKW",
        "colab_type": "code",
        "colab": {
          "base_uri": "https://localhost:8080/",
          "height": 170
        },
        "outputId": "df4999ff-b4a9-49eb-dd40-fa8434aec004"
      },
      "source": [
        "class Stack_using_Queues:\n",
        "    def __init__ (self):\n",
        "        self.queue1 = []\n",
        "        self.queue2 = []\n",
        "\n",
        "    def push(self,data):\n",
        "        self.queue1.append(data)\n",
        "\n",
        "    def pop(self):\n",
        "        if(len(self.queue2) ==0):\n",
        "            if len(self.queue1) == 0:\n",
        "                print(\"Stack is empty!\")\n",
        "        while(len(self.queue1) > 1):\n",
        "            temp = self.queue1.pop()\n",
        "            self.queue2.append(temp)\n",
        "        print(self.queue1.pop())\n",
        "\n",
        "        while(len(self.queue2)>0):\n",
        "            temp = self.queue2.pop()\n",
        "            self.queue1.append(temp)\n",
        "        \n",
        "    def printStack(self):\n",
        "        if (len(self.queue2)==0):\n",
        "            if len(self.queue1) == 0:\n",
        "                print(\"Stack is empty!\")\n",
        "            for i in range(len(self.queue1)):\n",
        "                print(self.queue1[i], end=\" -> \")\n",
        "\n",
        "        print(\"\\n\")\n",
        "\n",
        "\n",
        "s = Stack_using_Queues()\n",
        "s.push(1)\n",
        "s.push(2)\n",
        "s.push(3)\n",
        "s.printStack()\n",
        "print(\"\\nPopped element:\")\n",
        "s.pop()\n",
        "s.push(4)\n",
        "print(\"\\nAfter editing:\")\n",
        "s.printStack()"
      ],
      "execution_count": 19,
      "outputs": [
        {
          "output_type": "stream",
          "text": [
            "1 -> 2 -> 3 -> \n",
            "\n",
            "\n",
            "Popped element:\n",
            "1\n",
            "\n",
            "After editing:\n",
            "2 -> 3 -> 4 -> \n",
            "\n"
          ],
          "name": "stdout"
        }
      ]
    }
  ]
}